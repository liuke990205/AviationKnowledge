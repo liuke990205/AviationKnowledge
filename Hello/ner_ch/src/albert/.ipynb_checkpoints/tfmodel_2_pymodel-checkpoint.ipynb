{
 "cells": [
  {
   "cell_type": "code",
   "execution_count": null,
   "metadata": {
    "collapsed": true
   },
   "outputs": [],
   "source": [
    "! python convert_albert_tf_checkpoint_to_pytorch.py \\\n",
    "    --tf_checkpoint_path=pretrain/tf/albert_base_zh.zip \\\n",
    "    --bert_config_file=configs/albert_config_base.json \\\n",
    "    --pytorch_dump_path=pretrain/pytorch/albert_xlarge_zh/pytorch_model.bin \\\n",
    "    --share_type=all"
   ]
  },
  {
   "cell_type": "code",
   "execution_count": null,
   "metadata": {
    "collapsed": true
   },
   "outputs": [],
   "source": [
    "import os\n",
    "if os.path.exists('pretrain/tf/albert_base_zh.zip'):\n",
    "    print('file exits!')\n",
    "else:\n",
    "    print('file not exits!')"
   ]
  },
  {
   "cell_type": "code",
   "execution_count": null,
   "metadata": {
    "collapsed": true
   },
   "outputs": [],
   "source": []
  }
 ],
 "metadata": {
  "kernelspec": {
   "display_name": "Python 3",
   "language": "python",
   "name": "python3"
  },
  "language_info": {
   "codemirror_mode": {
    "name": "ipython",
    "version": 3
   },
   "file_extension": ".py",
   "mimetype": "text/x-python",
   "name": "python",
   "nbconvert_exporter": "python",
   "pygments_lexer": "ipython3",
   "version": "3.6.3"
  }
 },
 "nbformat": 4,
 "nbformat_minor": 2
}
